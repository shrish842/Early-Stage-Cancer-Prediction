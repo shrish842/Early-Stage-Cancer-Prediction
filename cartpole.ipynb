{
  "nbformat": 4,
  "nbformat_minor": 0,
  "metadata": {
    "colab": {
      "provenance": [],
      "authorship_tag": "ABX9TyMGrfeRf401a5L7S4sUF2yG",
      "include_colab_link": true
    },
    "kernelspec": {
      "name": "python3",
      "display_name": "Python 3"
    },
    "language_info": {
      "name": "python"
    }
  },
  "cells": [
    {
      "cell_type": "markdown",
      "metadata": {
        "id": "view-in-github",
        "colab_type": "text"
      },
      "source": [
        "<a href=\"https://colab.research.google.com/github/shrish842/Early-Stage-Cancer-Prediction/blob/main/cartpole.ipynb\" target=\"_parent\"><img src=\"https://colab.research.google.com/assets/colab-badge.svg\" alt=\"Open In Colab\"/></a>"
      ]
    },
    {
      "cell_type": "code",
      "execution_count": 5,
      "metadata": {
        "colab": {
          "base_uri": "https://localhost:8080/"
        },
        "id": "NZpA8THTTkGE",
        "outputId": "9ecc7efc-10ae-4315-b8c4-b895fb244033"
      },
      "outputs": [
        {
          "output_type": "stream",
          "name": "stdout",
          "text": [
            "Reading package lists... Done\n",
            "Building dependency tree... Done\n",
            "Reading state information... Done\n",
            "ffmpeg is already the newest version (7:4.4.2-0ubuntu0.22.04.1).\n",
            "The following additional packages will be installed:\n",
            "  freeglut3 libegl-dev libfontenc1 libgl-dev libgl1-mesa-dev libgles-dev libgles1 libglu1-mesa\n",
            "  libglu1-mesa-dev libglvnd-core-dev libglvnd-dev libglx-dev libice-dev libopengl-dev libsm-dev\n",
            "  libxfont2 libxkbfile1 libxt-dev x11-xkb-utils xfonts-base xfonts-encodings xfonts-utils\n",
            "  xserver-common\n",
            "Suggested packages:\n",
            "  libice-doc libsm-doc libxt-doc\n",
            "The following NEW packages will be installed:\n",
            "  freeglut3 freeglut3-dev libegl-dev libfontenc1 libgl-dev libgl1-mesa-dev libgles-dev libgles1\n",
            "  libglu1-mesa libglu1-mesa-dev libglvnd-core-dev libglvnd-dev libglx-dev libice-dev libopengl-dev\n",
            "  libsm-dev libxfont2 libxkbfile1 libxt-dev x11-xkb-utils xfonts-base xfonts-encodings xfonts-utils\n",
            "  xserver-common xvfb\n",
            "0 upgraded, 25 newly installed, 0 to remove and 19 not upgraded.\n",
            "Need to get 9,076 kB of archives.\n",
            "After this operation, 18.7 MB of additional disk space will be used.\n",
            "Get:1 http://archive.ubuntu.com/ubuntu jammy/universe amd64 freeglut3 amd64 2.8.1-6 [74.0 kB]\n",
            "Get:2 http://archive.ubuntu.com/ubuntu jammy/main amd64 libglx-dev amd64 1.4.0-1 [14.1 kB]\n",
            "Get:3 http://archive.ubuntu.com/ubuntu jammy/main amd64 libgl-dev amd64 1.4.0-1 [101 kB]\n",
            "Get:4 http://archive.ubuntu.com/ubuntu jammy/main amd64 libglvnd-core-dev amd64 1.4.0-1 [12.7 kB]\n",
            "Get:5 http://archive.ubuntu.com/ubuntu jammy/main amd64 libegl-dev amd64 1.4.0-1 [18.0 kB]\n",
            "Get:6 http://archive.ubuntu.com/ubuntu jammy/main amd64 libgles1 amd64 1.4.0-1 [11.5 kB]\n",
            "Get:7 http://archive.ubuntu.com/ubuntu jammy/main amd64 libgles-dev amd64 1.4.0-1 [49.4 kB]\n",
            "Get:8 http://archive.ubuntu.com/ubuntu jammy/main amd64 libopengl-dev amd64 1.4.0-1 [3,400 B]\n",
            "Get:9 http://archive.ubuntu.com/ubuntu jammy/main amd64 libglvnd-dev amd64 1.4.0-1 [3,162 B]\n",
            "Get:10 http://archive.ubuntu.com/ubuntu jammy-updates/main amd64 libgl1-mesa-dev amd64 23.2.1-1ubuntu3.1~22.04.3 [6,848 B]\n",
            "Get:11 http://archive.ubuntu.com/ubuntu jammy/main amd64 libglu1-mesa amd64 9.0.2-1 [145 kB]\n",
            "Get:12 http://archive.ubuntu.com/ubuntu jammy/main amd64 libglu1-mesa-dev amd64 9.0.2-1 [231 kB]\n",
            "Get:13 http://archive.ubuntu.com/ubuntu jammy/main amd64 libice-dev amd64 2:1.0.10-1build2 [51.4 kB]\n",
            "Get:14 http://archive.ubuntu.com/ubuntu jammy/main amd64 libsm-dev amd64 2:1.2.3-1build2 [18.1 kB]\n",
            "Get:15 http://archive.ubuntu.com/ubuntu jammy/main amd64 libxt-dev amd64 1:1.2.1-1 [396 kB]\n",
            "Get:16 http://archive.ubuntu.com/ubuntu jammy/universe amd64 freeglut3-dev amd64 2.8.1-6 [126 kB]\n",
            "Get:17 http://archive.ubuntu.com/ubuntu jammy/main amd64 libfontenc1 amd64 1:1.1.4-1build3 [14.7 kB]\n",
            "Get:18 http://archive.ubuntu.com/ubuntu jammy/main amd64 libxfont2 amd64 1:2.0.5-1build1 [94.5 kB]\n",
            "Get:19 http://archive.ubuntu.com/ubuntu jammy/main amd64 libxkbfile1 amd64 1:1.1.0-1build3 [71.8 kB]\n",
            "Get:20 http://archive.ubuntu.com/ubuntu jammy/main amd64 x11-xkb-utils amd64 7.7+5build4 [172 kB]\n",
            "Get:21 http://archive.ubuntu.com/ubuntu jammy/main amd64 xfonts-encodings all 1:1.0.5-0ubuntu2 [578 kB]\n",
            "Get:22 http://archive.ubuntu.com/ubuntu jammy/main amd64 xfonts-utils amd64 1:7.7+6build2 [94.6 kB]\n",
            "Get:23 http://archive.ubuntu.com/ubuntu jammy/main amd64 xfonts-base all 1:1.0.5 [5,896 kB]\n",
            "Get:24 http://archive.ubuntu.com/ubuntu jammy-updates/main amd64 xserver-common all 2:21.1.4-2ubuntu1.7~22.04.12 [28.7 kB]\n",
            "Get:25 http://archive.ubuntu.com/ubuntu jammy-updates/universe amd64 xvfb amd64 2:21.1.4-2ubuntu1.7~22.04.12 [864 kB]\n",
            "Fetched 9,076 kB in 1s (16.4 MB/s)\n",
            "Selecting previously unselected package freeglut3:amd64.\n",
            "(Reading database ... 124926 files and directories currently installed.)\n",
            "Preparing to unpack .../00-freeglut3_2.8.1-6_amd64.deb ...\n",
            "Unpacking freeglut3:amd64 (2.8.1-6) ...\n",
            "Selecting previously unselected package libglx-dev:amd64.\n",
            "Preparing to unpack .../01-libglx-dev_1.4.0-1_amd64.deb ...\n",
            "Unpacking libglx-dev:amd64 (1.4.0-1) ...\n",
            "Selecting previously unselected package libgl-dev:amd64.\n",
            "Preparing to unpack .../02-libgl-dev_1.4.0-1_amd64.deb ...\n",
            "Unpacking libgl-dev:amd64 (1.4.0-1) ...\n",
            "Selecting previously unselected package libglvnd-core-dev:amd64.\n",
            "Preparing to unpack .../03-libglvnd-core-dev_1.4.0-1_amd64.deb ...\n",
            "Unpacking libglvnd-core-dev:amd64 (1.4.0-1) ...\n",
            "Selecting previously unselected package libegl-dev:amd64.\n",
            "Preparing to unpack .../04-libegl-dev_1.4.0-1_amd64.deb ...\n",
            "Unpacking libegl-dev:amd64 (1.4.0-1) ...\n",
            "Selecting previously unselected package libgles1:amd64.\n",
            "Preparing to unpack .../05-libgles1_1.4.0-1_amd64.deb ...\n",
            "Unpacking libgles1:amd64 (1.4.0-1) ...\n",
            "Selecting previously unselected package libgles-dev:amd64.\n",
            "Preparing to unpack .../06-libgles-dev_1.4.0-1_amd64.deb ...\n",
            "Unpacking libgles-dev:amd64 (1.4.0-1) ...\n",
            "Selecting previously unselected package libopengl-dev:amd64.\n",
            "Preparing to unpack .../07-libopengl-dev_1.4.0-1_amd64.deb ...\n",
            "Unpacking libopengl-dev:amd64 (1.4.0-1) ...\n",
            "Selecting previously unselected package libglvnd-dev:amd64.\n",
            "Preparing to unpack .../08-libglvnd-dev_1.4.0-1_amd64.deb ...\n",
            "Unpacking libglvnd-dev:amd64 (1.4.0-1) ...\n",
            "Selecting previously unselected package libgl1-mesa-dev:amd64.\n",
            "Preparing to unpack .../09-libgl1-mesa-dev_23.2.1-1ubuntu3.1~22.04.3_amd64.deb ...\n",
            "Unpacking libgl1-mesa-dev:amd64 (23.2.1-1ubuntu3.1~22.04.3) ...\n",
            "Selecting previously unselected package libglu1-mesa:amd64.\n",
            "Preparing to unpack .../10-libglu1-mesa_9.0.2-1_amd64.deb ...\n",
            "Unpacking libglu1-mesa:amd64 (9.0.2-1) ...\n",
            "Selecting previously unselected package libglu1-mesa-dev:amd64.\n",
            "Preparing to unpack .../11-libglu1-mesa-dev_9.0.2-1_amd64.deb ...\n",
            "Unpacking libglu1-mesa-dev:amd64 (9.0.2-1) ...\n",
            "Selecting previously unselected package libice-dev:amd64.\n",
            "Preparing to unpack .../12-libice-dev_2%3a1.0.10-1build2_amd64.deb ...\n",
            "Unpacking libice-dev:amd64 (2:1.0.10-1build2) ...\n",
            "Selecting previously unselected package libsm-dev:amd64.\n",
            "Preparing to unpack .../13-libsm-dev_2%3a1.2.3-1build2_amd64.deb ...\n",
            "Unpacking libsm-dev:amd64 (2:1.2.3-1build2) ...\n",
            "Selecting previously unselected package libxt-dev:amd64.\n",
            "Preparing to unpack .../14-libxt-dev_1%3a1.2.1-1_amd64.deb ...\n",
            "Unpacking libxt-dev:amd64 (1:1.2.1-1) ...\n",
            "Selecting previously unselected package freeglut3-dev:amd64.\n",
            "Preparing to unpack .../15-freeglut3-dev_2.8.1-6_amd64.deb ...\n",
            "Unpacking freeglut3-dev:amd64 (2.8.1-6) ...\n",
            "Selecting previously unselected package libfontenc1:amd64.\n",
            "Preparing to unpack .../16-libfontenc1_1%3a1.1.4-1build3_amd64.deb ...\n",
            "Unpacking libfontenc1:amd64 (1:1.1.4-1build3) ...\n",
            "Selecting previously unselected package libxfont2:amd64.\n",
            "Preparing to unpack .../17-libxfont2_1%3a2.0.5-1build1_amd64.deb ...\n",
            "Unpacking libxfont2:amd64 (1:2.0.5-1build1) ...\n",
            "Selecting previously unselected package libxkbfile1:amd64.\n",
            "Preparing to unpack .../18-libxkbfile1_1%3a1.1.0-1build3_amd64.deb ...\n",
            "Unpacking libxkbfile1:amd64 (1:1.1.0-1build3) ...\n",
            "Selecting previously unselected package x11-xkb-utils.\n",
            "Preparing to unpack .../19-x11-xkb-utils_7.7+5build4_amd64.deb ...\n",
            "Unpacking x11-xkb-utils (7.7+5build4) ...\n",
            "Selecting previously unselected package xfonts-encodings.\n",
            "Preparing to unpack .../20-xfonts-encodings_1%3a1.0.5-0ubuntu2_all.deb ...\n",
            "Unpacking xfonts-encodings (1:1.0.5-0ubuntu2) ...\n",
            "Selecting previously unselected package xfonts-utils.\n",
            "Preparing to unpack .../21-xfonts-utils_1%3a7.7+6build2_amd64.deb ...\n",
            "Unpacking xfonts-utils (1:7.7+6build2) ...\n",
            "Selecting previously unselected package xfonts-base.\n",
            "Preparing to unpack .../22-xfonts-base_1%3a1.0.5_all.deb ...\n",
            "Unpacking xfonts-base (1:1.0.5) ...\n",
            "Selecting previously unselected package xserver-common.\n",
            "Preparing to unpack .../23-xserver-common_2%3a21.1.4-2ubuntu1.7~22.04.12_all.deb ...\n",
            "Unpacking xserver-common (2:21.1.4-2ubuntu1.7~22.04.12) ...\n",
            "Selecting previously unselected package xvfb.\n",
            "Preparing to unpack .../24-xvfb_2%3a21.1.4-2ubuntu1.7~22.04.12_amd64.deb ...\n",
            "Unpacking xvfb (2:21.1.4-2ubuntu1.7~22.04.12) ...\n",
            "Setting up freeglut3:amd64 (2.8.1-6) ...\n",
            "Setting up libglvnd-core-dev:amd64 (1.4.0-1) ...\n",
            "Setting up libice-dev:amd64 (2:1.0.10-1build2) ...\n",
            "Setting up libsm-dev:amd64 (2:1.2.3-1build2) ...\n",
            "Setting up libfontenc1:amd64 (1:1.1.4-1build3) ...\n",
            "Setting up libxt-dev:amd64 (1:1.2.1-1) ...\n",
            "Setting up libgles1:amd64 (1.4.0-1) ...\n",
            "Setting up xfonts-encodings (1:1.0.5-0ubuntu2) ...\n",
            "Setting up libglx-dev:amd64 (1.4.0-1) ...\n",
            "Setting up libglu1-mesa:amd64 (9.0.2-1) ...\n",
            "Setting up libxkbfile1:amd64 (1:1.1.0-1build3) ...\n",
            "Setting up libopengl-dev:amd64 (1.4.0-1) ...\n",
            "Setting up libxfont2:amd64 (1:2.0.5-1build1) ...\n",
            "Setting up libgl-dev:amd64 (1.4.0-1) ...\n",
            "Setting up libegl-dev:amd64 (1.4.0-1) ...\n",
            "Setting up x11-xkb-utils (7.7+5build4) ...\n",
            "Setting up xfonts-utils (1:7.7+6build2) ...\n",
            "Setting up xfonts-base (1:1.0.5) ...\n",
            "Setting up libglu1-mesa-dev:amd64 (9.0.2-1) ...\n",
            "Setting up xserver-common (2:21.1.4-2ubuntu1.7~22.04.12) ...\n",
            "Setting up libgles-dev:amd64 (1.4.0-1) ...\n",
            "Setting up xvfb (2:21.1.4-2ubuntu1.7~22.04.12) ...\n",
            "Setting up libglvnd-dev:amd64 (1.4.0-1) ...\n",
            "Setting up libgl1-mesa-dev:amd64 (23.2.1-1ubuntu3.1~22.04.3) ...\n",
            "Setting up freeglut3-dev:amd64 (2.8.1-6) ...\n",
            "Processing triggers for libc-bin (2.35-0ubuntu3.8) ...\n",
            "/sbin/ldconfig.real: /usr/local/lib/libtbbbind.so.3 is not a symbolic link\n",
            "\n",
            "/sbin/ldconfig.real: /usr/local/lib/libtcm_debug.so.1 is not a symbolic link\n",
            "\n",
            "/sbin/ldconfig.real: /usr/local/lib/libur_adapter_opencl.so.0 is not a symbolic link\n",
            "\n",
            "/sbin/ldconfig.real: /usr/local/lib/libumf.so.0 is not a symbolic link\n",
            "\n",
            "/sbin/ldconfig.real: /usr/local/lib/libur_loader.so.0 is not a symbolic link\n",
            "\n",
            "/sbin/ldconfig.real: /usr/local/lib/libhwloc.so.15 is not a symbolic link\n",
            "\n",
            "/sbin/ldconfig.real: /usr/local/lib/libtbbmalloc_proxy.so.2 is not a symbolic link\n",
            "\n",
            "/sbin/ldconfig.real: /usr/local/lib/libtcm.so.1 is not a symbolic link\n",
            "\n",
            "/sbin/ldconfig.real: /usr/local/lib/libtbbbind_2_5.so.3 is not a symbolic link\n",
            "\n",
            "/sbin/ldconfig.real: /usr/local/lib/libtbbbind_2_0.so.3 is not a symbolic link\n",
            "\n",
            "/sbin/ldconfig.real: /usr/local/lib/libtbb.so.12 is not a symbolic link\n",
            "\n",
            "/sbin/ldconfig.real: /usr/local/lib/libur_adapter_level_zero.so.0 is not a symbolic link\n",
            "\n",
            "/sbin/ldconfig.real: /usr/local/lib/libtbbmalloc.so.2 is not a symbolic link\n",
            "\n",
            "Processing triggers for man-db (2.10.2-1) ...\n",
            "Processing triggers for fontconfig (2.13.1-4.2ubuntu5) ...\n",
            "Collecting stable-baselines3>=2.0.0a4 (from stable-baselines3[extra]>=2.0.0a4)\n",
            "  Downloading stable_baselines3-2.6.0a0-py3-none-any.whl.metadata (4.8 kB)\n",
            "Requirement already satisfied: gymnasium<1.1.0,>=0.29.1 in /usr/local/lib/python3.11/dist-packages (from stable-baselines3>=2.0.0a4->stable-baselines3[extra]>=2.0.0a4) (1.0.0)\n",
            "Requirement already satisfied: numpy<3.0,>=1.20 in /usr/local/lib/python3.11/dist-packages (from stable-baselines3>=2.0.0a4->stable-baselines3[extra]>=2.0.0a4) (1.26.4)\n",
            "Requirement already satisfied: torch<3.0,>=2.3 in /usr/local/lib/python3.11/dist-packages (from stable-baselines3>=2.0.0a4->stable-baselines3[extra]>=2.0.0a4) (2.5.1+cu124)\n",
            "Requirement already satisfied: cloudpickle in /usr/local/lib/python3.11/dist-packages (from stable-baselines3>=2.0.0a4->stable-baselines3[extra]>=2.0.0a4) (3.1.1)\n",
            "Requirement already satisfied: pandas in /usr/local/lib/python3.11/dist-packages (from stable-baselines3>=2.0.0a4->stable-baselines3[extra]>=2.0.0a4) (2.2.2)\n",
            "Requirement already satisfied: matplotlib in /usr/local/lib/python3.11/dist-packages (from stable-baselines3>=2.0.0a4->stable-baselines3[extra]>=2.0.0a4) (3.10.0)\n",
            "Requirement already satisfied: opencv-python in /usr/local/lib/python3.11/dist-packages (from stable-baselines3[extra]>=2.0.0a4) (4.11.0.86)\n",
            "Requirement already satisfied: pygame in /usr/local/lib/python3.11/dist-packages (from stable-baselines3[extra]>=2.0.0a4) (2.6.1)\n",
            "Requirement already satisfied: tensorboard>=2.9.1 in /usr/local/lib/python3.11/dist-packages (from stable-baselines3[extra]>=2.0.0a4) (2.18.0)\n",
            "Requirement already satisfied: psutil in /usr/local/lib/python3.11/dist-packages (from stable-baselines3[extra]>=2.0.0a4) (5.9.5)\n",
            "Requirement already satisfied: tqdm in /usr/local/lib/python3.11/dist-packages (from stable-baselines3[extra]>=2.0.0a4) (4.67.1)\n",
            "Requirement already satisfied: rich in /usr/local/lib/python3.11/dist-packages (from stable-baselines3[extra]>=2.0.0a4) (13.9.4)\n",
            "Requirement already satisfied: ale-py>=0.9.0 in /usr/local/lib/python3.11/dist-packages (from stable-baselines3[extra]>=2.0.0a4) (0.10.1)\n",
            "Requirement already satisfied: pillow in /usr/local/lib/python3.11/dist-packages (from stable-baselines3[extra]>=2.0.0a4) (11.1.0)\n",
            "Requirement already satisfied: typing-extensions>=4.3.0 in /usr/local/lib/python3.11/dist-packages (from gymnasium<1.1.0,>=0.29.1->stable-baselines3>=2.0.0a4->stable-baselines3[extra]>=2.0.0a4) (4.12.2)\n",
            "Requirement already satisfied: farama-notifications>=0.0.1 in /usr/local/lib/python3.11/dist-packages (from gymnasium<1.1.0,>=0.29.1->stable-baselines3>=2.0.0a4->stable-baselines3[extra]>=2.0.0a4) (0.0.4)\n",
            "Requirement already satisfied: absl-py>=0.4 in /usr/local/lib/python3.11/dist-packages (from tensorboard>=2.9.1->stable-baselines3[extra]>=2.0.0a4) (1.4.0)\n",
            "Requirement already satisfied: grpcio>=1.48.2 in /usr/local/lib/python3.11/dist-packages (from tensorboard>=2.9.1->stable-baselines3[extra]>=2.0.0a4) (1.70.0)\n",
            "Requirement already satisfied: markdown>=2.6.8 in /usr/local/lib/python3.11/dist-packages (from tensorboard>=2.9.1->stable-baselines3[extra]>=2.0.0a4) (3.7)\n",
            "Requirement already satisfied: packaging in /usr/local/lib/python3.11/dist-packages (from tensorboard>=2.9.1->stable-baselines3[extra]>=2.0.0a4) (24.2)\n",
            "Requirement already satisfied: protobuf!=4.24.0,>=3.19.6 in /usr/local/lib/python3.11/dist-packages (from tensorboard>=2.9.1->stable-baselines3[extra]>=2.0.0a4) (4.25.6)\n",
            "Requirement already satisfied: setuptools>=41.0.0 in /usr/local/lib/python3.11/dist-packages (from tensorboard>=2.9.1->stable-baselines3[extra]>=2.0.0a4) (75.1.0)\n",
            "Requirement already satisfied: six>1.9 in /usr/local/lib/python3.11/dist-packages (from tensorboard>=2.9.1->stable-baselines3[extra]>=2.0.0a4) (1.17.0)\n",
            "Requirement already satisfied: tensorboard-data-server<0.8.0,>=0.7.0 in /usr/local/lib/python3.11/dist-packages (from tensorboard>=2.9.1->stable-baselines3[extra]>=2.0.0a4) (0.7.2)\n",
            "Requirement already satisfied: werkzeug>=1.0.1 in /usr/local/lib/python3.11/dist-packages (from tensorboard>=2.9.1->stable-baselines3[extra]>=2.0.0a4) (3.1.3)\n",
            "Requirement already satisfied: filelock in /usr/local/lib/python3.11/dist-packages (from torch<3.0,>=2.3->stable-baselines3>=2.0.0a4->stable-baselines3[extra]>=2.0.0a4) (3.17.0)\n",
            "Requirement already satisfied: networkx in /usr/local/lib/python3.11/dist-packages (from torch<3.0,>=2.3->stable-baselines3>=2.0.0a4->stable-baselines3[extra]>=2.0.0a4) (3.4.2)\n",
            "Requirement already satisfied: jinja2 in /usr/local/lib/python3.11/dist-packages (from torch<3.0,>=2.3->stable-baselines3>=2.0.0a4->stable-baselines3[extra]>=2.0.0a4) (3.1.5)\n",
            "Requirement already satisfied: fsspec in /usr/local/lib/python3.11/dist-packages (from torch<3.0,>=2.3->stable-baselines3>=2.0.0a4->stable-baselines3[extra]>=2.0.0a4) (2024.10.0)\n",
            "Collecting nvidia-cuda-nvrtc-cu12==12.4.127 (from torch<3.0,>=2.3->stable-baselines3>=2.0.0a4->stable-baselines3[extra]>=2.0.0a4)\n",
            "  Downloading nvidia_cuda_nvrtc_cu12-12.4.127-py3-none-manylinux2014_x86_64.whl.metadata (1.5 kB)\n",
            "Collecting nvidia-cuda-runtime-cu12==12.4.127 (from torch<3.0,>=2.3->stable-baselines3>=2.0.0a4->stable-baselines3[extra]>=2.0.0a4)\n",
            "  Downloading nvidia_cuda_runtime_cu12-12.4.127-py3-none-manylinux2014_x86_64.whl.metadata (1.5 kB)\n",
            "Collecting nvidia-cuda-cupti-cu12==12.4.127 (from torch<3.0,>=2.3->stable-baselines3>=2.0.0a4->stable-baselines3[extra]>=2.0.0a4)\n",
            "  Downloading nvidia_cuda_cupti_cu12-12.4.127-py3-none-manylinux2014_x86_64.whl.metadata (1.6 kB)\n",
            "Collecting nvidia-cudnn-cu12==9.1.0.70 (from torch<3.0,>=2.3->stable-baselines3>=2.0.0a4->stable-baselines3[extra]>=2.0.0a4)\n",
            "  Downloading nvidia_cudnn_cu12-9.1.0.70-py3-none-manylinux2014_x86_64.whl.metadata (1.6 kB)\n",
            "Collecting nvidia-cublas-cu12==12.4.5.8 (from torch<3.0,>=2.3->stable-baselines3>=2.0.0a4->stable-baselines3[extra]>=2.0.0a4)\n",
            "  Downloading nvidia_cublas_cu12-12.4.5.8-py3-none-manylinux2014_x86_64.whl.metadata (1.5 kB)\n",
            "Collecting nvidia-cufft-cu12==11.2.1.3 (from torch<3.0,>=2.3->stable-baselines3>=2.0.0a4->stable-baselines3[extra]>=2.0.0a4)\n",
            "  Downloading nvidia_cufft_cu12-11.2.1.3-py3-none-manylinux2014_x86_64.whl.metadata (1.5 kB)\n",
            "Collecting nvidia-curand-cu12==10.3.5.147 (from torch<3.0,>=2.3->stable-baselines3>=2.0.0a4->stable-baselines3[extra]>=2.0.0a4)\n",
            "  Downloading nvidia_curand_cu12-10.3.5.147-py3-none-manylinux2014_x86_64.whl.metadata (1.5 kB)\n",
            "Collecting nvidia-cusolver-cu12==11.6.1.9 (from torch<3.0,>=2.3->stable-baselines3>=2.0.0a4->stable-baselines3[extra]>=2.0.0a4)\n",
            "  Downloading nvidia_cusolver_cu12-11.6.1.9-py3-none-manylinux2014_x86_64.whl.metadata (1.6 kB)\n",
            "Collecting nvidia-cusparse-cu12==12.3.1.170 (from torch<3.0,>=2.3->stable-baselines3>=2.0.0a4->stable-baselines3[extra]>=2.0.0a4)\n",
            "  Downloading nvidia_cusparse_cu12-12.3.1.170-py3-none-manylinux2014_x86_64.whl.metadata (1.6 kB)\n",
            "Requirement already satisfied: nvidia-nccl-cu12==2.21.5 in /usr/local/lib/python3.11/dist-packages (from torch<3.0,>=2.3->stable-baselines3>=2.0.0a4->stable-baselines3[extra]>=2.0.0a4) (2.21.5)\n",
            "Requirement already satisfied: nvidia-nvtx-cu12==12.4.127 in /usr/local/lib/python3.11/dist-packages (from torch<3.0,>=2.3->stable-baselines3>=2.0.0a4->stable-baselines3[extra]>=2.0.0a4) (12.4.127)\n",
            "Collecting nvidia-nvjitlink-cu12==12.4.127 (from torch<3.0,>=2.3->stable-baselines3>=2.0.0a4->stable-baselines3[extra]>=2.0.0a4)\n",
            "  Downloading nvidia_nvjitlink_cu12-12.4.127-py3-none-manylinux2014_x86_64.whl.metadata (1.5 kB)\n",
            "Requirement already satisfied: triton==3.1.0 in /usr/local/lib/python3.11/dist-packages (from torch<3.0,>=2.3->stable-baselines3>=2.0.0a4->stable-baselines3[extra]>=2.0.0a4) (3.1.0)\n",
            "Requirement already satisfied: sympy==1.13.1 in /usr/local/lib/python3.11/dist-packages (from torch<3.0,>=2.3->stable-baselines3>=2.0.0a4->stable-baselines3[extra]>=2.0.0a4) (1.13.1)\n",
            "Requirement already satisfied: mpmath<1.4,>=1.1.0 in /usr/local/lib/python3.11/dist-packages (from sympy==1.13.1->torch<3.0,>=2.3->stable-baselines3>=2.0.0a4->stable-baselines3[extra]>=2.0.0a4) (1.3.0)\n",
            "Requirement already satisfied: contourpy>=1.0.1 in /usr/local/lib/python3.11/dist-packages (from matplotlib->stable-baselines3>=2.0.0a4->stable-baselines3[extra]>=2.0.0a4) (1.3.1)\n",
            "Requirement already satisfied: cycler>=0.10 in /usr/local/lib/python3.11/dist-packages (from matplotlib->stable-baselines3>=2.0.0a4->stable-baselines3[extra]>=2.0.0a4) (0.12.1)\n",
            "Requirement already satisfied: fonttools>=4.22.0 in /usr/local/lib/python3.11/dist-packages (from matplotlib->stable-baselines3>=2.0.0a4->stable-baselines3[extra]>=2.0.0a4) (4.55.8)\n",
            "Requirement already satisfied: kiwisolver>=1.3.1 in /usr/local/lib/python3.11/dist-packages (from matplotlib->stable-baselines3>=2.0.0a4->stable-baselines3[extra]>=2.0.0a4) (1.4.8)\n",
            "Requirement already satisfied: pyparsing>=2.3.1 in /usr/local/lib/python3.11/dist-packages (from matplotlib->stable-baselines3>=2.0.0a4->stable-baselines3[extra]>=2.0.0a4) (3.2.1)\n",
            "Requirement already satisfied: python-dateutil>=2.7 in /usr/local/lib/python3.11/dist-packages (from matplotlib->stable-baselines3>=2.0.0a4->stable-baselines3[extra]>=2.0.0a4) (2.8.2)\n",
            "Requirement already satisfied: pytz>=2020.1 in /usr/local/lib/python3.11/dist-packages (from pandas->stable-baselines3>=2.0.0a4->stable-baselines3[extra]>=2.0.0a4) (2025.1)\n",
            "Requirement already satisfied: tzdata>=2022.7 in /usr/local/lib/python3.11/dist-packages (from pandas->stable-baselines3>=2.0.0a4->stable-baselines3[extra]>=2.0.0a4) (2025.1)\n",
            "Requirement already satisfied: markdown-it-py>=2.2.0 in /usr/local/lib/python3.11/dist-packages (from rich->stable-baselines3[extra]>=2.0.0a4) (3.0.0)\n",
            "Requirement already satisfied: pygments<3.0.0,>=2.13.0 in /usr/local/lib/python3.11/dist-packages (from rich->stable-baselines3[extra]>=2.0.0a4) (2.18.0)\n",
            "Requirement already satisfied: mdurl~=0.1 in /usr/local/lib/python3.11/dist-packages (from markdown-it-py>=2.2.0->rich->stable-baselines3[extra]>=2.0.0a4) (0.1.2)\n",
            "Requirement already satisfied: MarkupSafe>=2.1.1 in /usr/local/lib/python3.11/dist-packages (from werkzeug>=1.0.1->tensorboard>=2.9.1->stable-baselines3[extra]>=2.0.0a4) (3.0.2)\n",
            "Downloading stable_baselines3-2.6.0a0-py3-none-any.whl (184 kB)\n",
            "\u001b[2K   \u001b[90m━━━━━━━━━━━━━━━━━━━━━━━━━━━━━━━━━━━━━━━━\u001b[0m \u001b[32m184.3/184.3 kB\u001b[0m \u001b[31m3.8 MB/s\u001b[0m eta \u001b[36m0:00:00\u001b[0m\n",
            "\u001b[?25hDownloading nvidia_cublas_cu12-12.4.5.8-py3-none-manylinux2014_x86_64.whl (363.4 MB)\n",
            "\u001b[2K   \u001b[90m━━━━━━━━━━━━━━━━━━━━━━━━━━━━━━━━━━━━━━━━\u001b[0m \u001b[32m363.4/363.4 MB\u001b[0m \u001b[31m4.5 MB/s\u001b[0m eta \u001b[36m0:00:00\u001b[0m\n",
            "\u001b[?25hDownloading nvidia_cuda_cupti_cu12-12.4.127-py3-none-manylinux2014_x86_64.whl (13.8 MB)\n",
            "\u001b[2K   \u001b[90m━━━━━━━━━━━━━━━━━━━━━━━━━━━━━━━━━━━━━━━━\u001b[0m \u001b[32m13.8/13.8 MB\u001b[0m \u001b[31m61.2 MB/s\u001b[0m eta \u001b[36m0:00:00\u001b[0m\n",
            "\u001b[?25hDownloading nvidia_cuda_nvrtc_cu12-12.4.127-py3-none-manylinux2014_x86_64.whl (24.6 MB)\n",
            "\u001b[2K   \u001b[90m━━━━━━━━━━━━━━━━━━━━━━━━━━━━━━━━━━━━━━━━\u001b[0m \u001b[32m24.6/24.6 MB\u001b[0m \u001b[31m49.5 MB/s\u001b[0m eta \u001b[36m0:00:00\u001b[0m\n",
            "\u001b[?25hDownloading nvidia_cuda_runtime_cu12-12.4.127-py3-none-manylinux2014_x86_64.whl (883 kB)\n",
            "\u001b[2K   \u001b[90m━━━━━━━━━━━━━━━━━━━━━━━━━━━━━━━━━━━━━━━━\u001b[0m \u001b[32m883.7/883.7 kB\u001b[0m \u001b[31m34.9 MB/s\u001b[0m eta \u001b[36m0:00:00\u001b[0m\n",
            "\u001b[?25hDownloading nvidia_cudnn_cu12-9.1.0.70-py3-none-manylinux2014_x86_64.whl (664.8 MB)\n",
            "\u001b[2K   \u001b[90m━━━━━━━━━━━━━━━━━━━━━━━━━━━━━━━━━━━━━━━━\u001b[0m \u001b[32m664.8/664.8 MB\u001b[0m \u001b[31m2.7 MB/s\u001b[0m eta \u001b[36m0:00:00\u001b[0m\n",
            "\u001b[?25hDownloading nvidia_cufft_cu12-11.2.1.3-py3-none-manylinux2014_x86_64.whl (211.5 MB)\n",
            "\u001b[2K   \u001b[90m━━━━━━━━━━━━━━━━━━━━━━━━━━━━━━━━━━━━━━━━\u001b[0m \u001b[32m211.5/211.5 MB\u001b[0m \u001b[31m5.2 MB/s\u001b[0m eta \u001b[36m0:00:00\u001b[0m\n",
            "\u001b[?25hDownloading nvidia_curand_cu12-10.3.5.147-py3-none-manylinux2014_x86_64.whl (56.3 MB)\n",
            "\u001b[2K   \u001b[90m━━━━━━━━━━━━━━━━━━━━━━━━━━━━━━━━━━━━━━━━\u001b[0m \u001b[32m56.3/56.3 MB\u001b[0m \u001b[31m12.5 MB/s\u001b[0m eta \u001b[36m0:00:00\u001b[0m\n",
            "\u001b[?25hDownloading nvidia_cusolver_cu12-11.6.1.9-py3-none-manylinux2014_x86_64.whl (127.9 MB)\n",
            "\u001b[2K   \u001b[90m━━━━━━━━━━━━━━━━━━━━━━━━━━━━━━━━━━━━━━━━\u001b[0m \u001b[32m127.9/127.9 MB\u001b[0m \u001b[31m7.3 MB/s\u001b[0m eta \u001b[36m0:00:00\u001b[0m\n",
            "\u001b[?25hDownloading nvidia_cusparse_cu12-12.3.1.170-py3-none-manylinux2014_x86_64.whl (207.5 MB)\n",
            "\u001b[2K   \u001b[90m━━━━━━━━━━━━━━━━━━━━━━━━━━━━━━━━━━━━━━━━\u001b[0m \u001b[32m207.5/207.5 MB\u001b[0m \u001b[31m5.2 MB/s\u001b[0m eta \u001b[36m0:00:00\u001b[0m\n",
            "\u001b[?25hDownloading nvidia_nvjitlink_cu12-12.4.127-py3-none-manylinux2014_x86_64.whl (21.1 MB)\n",
            "\u001b[2K   \u001b[90m━━━━━━━━━━━━━━━━━━━━━━━━━━━━━━━━━━━━━━━━\u001b[0m \u001b[32m21.1/21.1 MB\u001b[0m \u001b[31m59.8 MB/s\u001b[0m eta \u001b[36m0:00:00\u001b[0m\n",
            "\u001b[?25hInstalling collected packages: nvidia-nvjitlink-cu12, nvidia-curand-cu12, nvidia-cufft-cu12, nvidia-cuda-runtime-cu12, nvidia-cuda-nvrtc-cu12, nvidia-cuda-cupti-cu12, nvidia-cublas-cu12, nvidia-cusparse-cu12, nvidia-cudnn-cu12, nvidia-cusolver-cu12, stable-baselines3\n",
            "  Attempting uninstall: nvidia-nvjitlink-cu12\n",
            "    Found existing installation: nvidia-nvjitlink-cu12 12.5.82\n",
            "    Uninstalling nvidia-nvjitlink-cu12-12.5.82:\n",
            "      Successfully uninstalled nvidia-nvjitlink-cu12-12.5.82\n",
            "  Attempting uninstall: nvidia-curand-cu12\n",
            "    Found existing installation: nvidia-curand-cu12 10.3.6.82\n",
            "    Uninstalling nvidia-curand-cu12-10.3.6.82:\n",
            "      Successfully uninstalled nvidia-curand-cu12-10.3.6.82\n",
            "  Attempting uninstall: nvidia-cufft-cu12\n",
            "    Found existing installation: nvidia-cufft-cu12 11.2.3.61\n",
            "    Uninstalling nvidia-cufft-cu12-11.2.3.61:\n",
            "      Successfully uninstalled nvidia-cufft-cu12-11.2.3.61\n",
            "  Attempting uninstall: nvidia-cuda-runtime-cu12\n",
            "    Found existing installation: nvidia-cuda-runtime-cu12 12.5.82\n",
            "    Uninstalling nvidia-cuda-runtime-cu12-12.5.82:\n",
            "      Successfully uninstalled nvidia-cuda-runtime-cu12-12.5.82\n",
            "  Attempting uninstall: nvidia-cuda-nvrtc-cu12\n",
            "    Found existing installation: nvidia-cuda-nvrtc-cu12 12.5.82\n",
            "    Uninstalling nvidia-cuda-nvrtc-cu12-12.5.82:\n",
            "      Successfully uninstalled nvidia-cuda-nvrtc-cu12-12.5.82\n",
            "  Attempting uninstall: nvidia-cuda-cupti-cu12\n",
            "    Found existing installation: nvidia-cuda-cupti-cu12 12.5.82\n",
            "    Uninstalling nvidia-cuda-cupti-cu12-12.5.82:\n",
            "      Successfully uninstalled nvidia-cuda-cupti-cu12-12.5.82\n",
            "  Attempting uninstall: nvidia-cublas-cu12\n",
            "    Found existing installation: nvidia-cublas-cu12 12.5.3.2\n",
            "    Uninstalling nvidia-cublas-cu12-12.5.3.2:\n",
            "      Successfully uninstalled nvidia-cublas-cu12-12.5.3.2\n",
            "  Attempting uninstall: nvidia-cusparse-cu12\n",
            "    Found existing installation: nvidia-cusparse-cu12 12.5.1.3\n",
            "    Uninstalling nvidia-cusparse-cu12-12.5.1.3:\n",
            "      Successfully uninstalled nvidia-cusparse-cu12-12.5.1.3\n",
            "  Attempting uninstall: nvidia-cudnn-cu12\n",
            "    Found existing installation: nvidia-cudnn-cu12 9.3.0.75\n",
            "    Uninstalling nvidia-cudnn-cu12-9.3.0.75:\n",
            "      Successfully uninstalled nvidia-cudnn-cu12-9.3.0.75\n",
            "  Attempting uninstall: nvidia-cusolver-cu12\n",
            "    Found existing installation: nvidia-cusolver-cu12 11.6.3.83\n",
            "    Uninstalling nvidia-cusolver-cu12-11.6.3.83:\n",
            "      Successfully uninstalled nvidia-cusolver-cu12-11.6.3.83\n",
            "Successfully installed nvidia-cublas-cu12-12.4.5.8 nvidia-cuda-cupti-cu12-12.4.127 nvidia-cuda-nvrtc-cu12-12.4.127 nvidia-cuda-runtime-cu12-12.4.127 nvidia-cudnn-cu12-9.1.0.70 nvidia-cufft-cu12-11.2.1.3 nvidia-curand-cu12-10.3.5.147 nvidia-cusolver-cu12-11.6.1.9 nvidia-cusparse-cu12-12.3.1.170 nvidia-nvjitlink-cu12-12.4.127 stable-baselines3-2.6.0a0\n"
          ]
        }
      ],
      "source": [
        "!apt-get install ffmpeg freeglut3-dev xvfb  # For visualization\n",
        "!pip install \"stable-baselines3[extra]>=2.0.0a4\""
      ]
    },
    {
      "cell_type": "code",
      "source": [
        "import gymnasium as gym\n",
        "import numpy as np"
      ],
      "metadata": {
        "id": "yNqHYAWtTyHu"
      },
      "execution_count": 3,
      "outputs": []
    },
    {
      "cell_type": "code",
      "source": [
        "from stable_baselines3 import PPO"
      ],
      "metadata": {
        "id": "17C3liiZCfWn"
      },
      "execution_count": 6,
      "outputs": []
    },
    {
      "cell_type": "code",
      "source": [
        "from stable_baselines3.ppo.policies import MlpPolicy"
      ],
      "metadata": {
        "id": "E6gSa1HTCjNQ"
      },
      "execution_count": 7,
      "outputs": []
    },
    {
      "cell_type": "code",
      "source": [
        "env=gym.make(\"CartPole-v1\")\n",
        "model = PPO(MlpPolicy, env, verbose=0)"
      ],
      "metadata": {
        "id": "UzJmmNtACrOU"
      },
      "execution_count": 8,
      "outputs": []
    },
    {
      "cell_type": "code",
      "source": [
        "from stable_baselines3.common.base_class import BaseAlgorithm\n",
        "\n",
        "\n",
        "def evaluate(\n",
        "    model: BaseAlgorithm,\n",
        "    num_episodes: int = 100,\n",
        "    deterministic: bool = True,\n",
        ") -> float:\n",
        "    \"\"\"\n",
        "    Evaluate an RL agent for `num_episodes`.\n",
        "\n",
        "    :param model: the RL Agent\n",
        "    :param env: the gym Environment\n",
        "    :param num_episodes: number of episodes to evaluate it\n",
        "    :param deterministic: Whether to use deterministic or stochastic actions\n",
        "    :return: Mean reward for the last `num_episodes`\n",
        "    \"\"\"\n",
        "    # This function will only work for a single environment\n",
        "    vec_env = model.get_env()\n",
        "    obs = vec_env.reset()\n",
        "    all_episode_rewards = []\n",
        "    for _ in range(num_episodes):\n",
        "        episode_rewards = []\n",
        "        done = False\n",
        "        # Note: SB3 VecEnv resets automatically:\n",
        "        # https://stable-baselines3.readthedocs.io/en/master/guide/vec_envs.html#vecenv-api-vs-gym-api\n",
        "        # obs = vec_env.reset()\n",
        "        while not done:\n",
        "            # _states are only useful when using LSTM policies\n",
        "            # `deterministic` is to use deterministic actions\n",
        "            action, _states = model.predict(obs, deterministic=deterministic)\n",
        "            # here, action, rewards and dones are arrays\n",
        "            # because we are using vectorized env\n",
        "            obs, reward, done, _info = vec_env.step(action)\n",
        "            episode_rewards.append(reward)\n",
        "\n",
        "        all_episode_rewards.append(sum(episode_rewards))\n",
        "\n",
        "    mean_episode_reward = np.mean(all_episode_rewards)\n",
        "    print(f\"Mean reward: {mean_episode_reward:.2f} - Num episodes: {num_episodes}\")\n",
        "\n",
        "    return mean_episode_reward"
      ],
      "metadata": {
        "colab": {
          "base_uri": "https://localhost:8080/"
        },
        "id": "eCoDvE7vDwbR",
        "outputId": "915dd33d-0b73-4549-8cb9-f3ac8c2c98a2"
      },
      "execution_count": 9,
      "outputs": [
        {
          "output_type": "stream",
          "name": "stderr",
          "text": [
            "/usr/local/lib/python3.11/dist-packages/ipykernel/ipkernel.py:283: DeprecationWarning: `should_run_async` will not call `transform_cell` automatically in the future. Please pass the result to `transformed_cell` argument and any exception that happen during thetransform in `preprocessing_exc_tuple` in IPython 7.17 and above.\n",
            "  and should_run_async(code)\n"
          ]
        }
      ]
    },
    {
      "cell_type": "code",
      "source": [
        "# Random Agent, before training\n",
        "mean_reward_before_train = evaluate(model, num_episodes=100, deterministic=True)"
      ],
      "metadata": {
        "colab": {
          "base_uri": "https://localhost:8080/"
        },
        "id": "O7t8AkceFGLF",
        "outputId": "2f812545-74bf-48e6-c2d4-3ca3dee8f324"
      },
      "execution_count": 10,
      "outputs": [
        {
          "output_type": "stream",
          "name": "stdout",
          "text": [
            "Mean reward: 84.74 - Num episodes: 100\n"
          ]
        }
      ]
    },
    {
      "cell_type": "code",
      "source": [
        "from stable_baselines3.common.evaluation import evaluate_policy"
      ],
      "metadata": {
        "id": "T74TNamKFMfV"
      },
      "execution_count": 11,
      "outputs": []
    },
    {
      "cell_type": "code",
      "source": [
        "mean_reward, std_reward = evaluate_policy(model, env, n_eval_episodes=100, warn=False)\n",
        "\n",
        "print(f\"mean_reward: {mean_reward:.2f} +/- {std_reward:.2f}\")"
      ],
      "metadata": {
        "colab": {
          "base_uri": "https://localhost:8080/"
        },
        "id": "lXuXrt6sFQCK",
        "outputId": "789e8752-de68-41bc-a70e-a1ffa6f05708"
      },
      "execution_count": 12,
      "outputs": [
        {
          "output_type": "stream",
          "name": "stdout",
          "text": [
            "mean_reward: 83.35 +/- 20.50\n"
          ]
        }
      ]
    },
    {
      "cell_type": "code",
      "source": [
        "# Train the agent for 10000 steps\n",
        "model.learn(total_timesteps=10_000)"
      ],
      "metadata": {
        "colab": {
          "base_uri": "https://localhost:8080/"
        },
        "id": "wqtWExfHFSQy",
        "outputId": "24209720-0173-4bb1-c329-a7b7474cecbd"
      },
      "execution_count": 13,
      "outputs": [
        {
          "output_type": "execute_result",
          "data": {
            "text/plain": [
              "<stable_baselines3.ppo.ppo.PPO at 0x7e81421efa90>"
            ]
          },
          "metadata": {},
          "execution_count": 13
        }
      ]
    },
    {
      "cell_type": "code",
      "source": [
        "# Evaluate the trained agent\n",
        "mean_reward, std_reward = evaluate_policy(model, env, n_eval_episodes=100)\n",
        "\n",
        "print(f\"mean_reward:{mean_reward:.2f} +/- {std_reward:.2f}\")"
      ],
      "metadata": {
        "colab": {
          "base_uri": "https://localhost:8080/"
        },
        "id": "bSAGzrWYFb3A",
        "outputId": "ca55ed4c-c06c-40e8-8d4f-2f2208e55969"
      },
      "execution_count": 14,
      "outputs": [
        {
          "output_type": "stream",
          "name": "stderr",
          "text": [
            "/usr/local/lib/python3.11/dist-packages/stable_baselines3/common/evaluation.py:67: UserWarning: Evaluation environment is not wrapped with a ``Monitor`` wrapper. This may result in reporting modified episode lengths and rewards, if other wrappers happen to modify these. Consider wrapping environment first with ``Monitor`` wrapper.\n",
            "  warnings.warn(\n"
          ]
        },
        {
          "output_type": "stream",
          "name": "stdout",
          "text": [
            "mean_reward:403.14 +/- 101.21\n"
          ]
        }
      ]
    },
    {
      "cell_type": "code",
      "source": [
        "# Set up fake display; otherwise rendering will fail\n",
        "import os\n",
        "os.system(\"Xvfb :1 -screen 0 1024x768x24 &\")\n",
        "os.environ['DISPLAY'] = ':1'"
      ],
      "metadata": {
        "id": "B7mZYcwPFhpF"
      },
      "execution_count": 15,
      "outputs": []
    },
    {
      "cell_type": "code",
      "source": [
        "import base64\n",
        "from pathlib import Path\n",
        "\n",
        "from IPython import display as ipythondisplay\n",
        "\n",
        "\n",
        "def show_videos(video_path=\"\", prefix=\"\"):\n",
        "    \"\"\"\n",
        "    Taken from https://github.com/eleurent/highway-env\n",
        "\n",
        "    :param video_path: (str) Path to the folder containing videos\n",
        "    :param prefix: (str) Filter the video, showing only the only starting with this prefix\n",
        "    \"\"\"\n",
        "    html = []\n",
        "    for mp4 in Path(video_path).glob(\"{}*.mp4\".format(prefix)):\n",
        "        video_b64 = base64.b64encode(mp4.read_bytes())\n",
        "        html.append(\n",
        "            \"\"\"<video alt=\"{}\" autoplay\n",
        "                    loop controls style=\"height: 400px;\">\n",
        "                    <source src=\"data:video/mp4;base64,{}\" type=\"video/mp4\" />\n",
        "                </video>\"\"\".format(\n",
        "                mp4, video_b64.decode(\"ascii\")\n",
        "            )\n",
        "        )\n",
        "    ipythondisplay.display(ipythondisplay.HTML(data=\"<br>\".join(html)))"
      ],
      "metadata": {
        "id": "6aLpMjWyFuEP"
      },
      "execution_count": 16,
      "outputs": []
    },
    {
      "cell_type": "code",
      "source": [
        "from stable_baselines3.common.vec_env import VecVideoRecorder, DummyVecEnv\n",
        "\n",
        "\n",
        "def record_video(env_id, model, video_length=500, prefix=\"\", video_folder=\"videos/\"):\n",
        "    \"\"\"\n",
        "    :param env_id: (str)\n",
        "    :param model: (RL model)\n",
        "    :param video_length: (int)\n",
        "    :param prefix: (str)\n",
        "    :param video_folder: (str)\n",
        "    \"\"\"\n",
        "    eval_env = DummyVecEnv([lambda: gym.make(env_id, render_mode=\"rgb_array\")])\n",
        "    # Start the video at step=0 and record 500 steps\n",
        "    eval_env = VecVideoRecorder(\n",
        "        eval_env,\n",
        "        video_folder=video_folder,\n",
        "        record_video_trigger=lambda step: step == 0,\n",
        "        video_length=video_length,\n",
        "        name_prefix=prefix,\n",
        "    )\n",
        "\n",
        "    obs = eval_env.reset()\n",
        "    for _ in range(video_length):\n",
        "        action, _ = model.predict(obs)\n",
        "        obs, _, _, _ = eval_env.step(action)\n",
        "\n",
        "    # Close the video recorder\n",
        "    eval_env.close()"
      ],
      "metadata": {
        "id": "avoBt2laFxbv"
      },
      "execution_count": 17,
      "outputs": []
    },
    {
      "cell_type": "code",
      "source": [
        "record_video(\"CartPole-v1\", model, video_length=500, prefix=\"ppo-cartpole\")"
      ],
      "metadata": {
        "colab": {
          "base_uri": "https://localhost:8080/"
        },
        "id": "K6YqLjW6F1Rf",
        "outputId": "3ababcd6-2006-400a-97ba-20f04bd4cc28"
      },
      "execution_count": 18,
      "outputs": [
        {
          "output_type": "stream",
          "name": "stderr",
          "text": [
            "/usr/local/lib/python3.11/dist-packages/pygame/pkgdata.py:25: DeprecationWarning: pkg_resources is deprecated as an API. See https://setuptools.pypa.io/en/latest/pkg_resources.html\n",
            "  from pkg_resources import resource_stream, resource_exists\n",
            "/usr/local/lib/python3.11/dist-packages/pkg_resources/__init__.py:3154: DeprecationWarning: Deprecated call to `pkg_resources.declare_namespace('google')`.\n",
            "Implementing implicit namespace packages (as specified in PEP 420) is preferred to `pkg_resources.declare_namespace`. See https://setuptools.pypa.io/en/latest/references/keywords.html#keyword-namespace-packages\n",
            "  declare_namespace(pkg)\n",
            "/usr/local/lib/python3.11/dist-packages/pkg_resources/__init__.py:3154: DeprecationWarning: Deprecated call to `pkg_resources.declare_namespace('google.cloud')`.\n",
            "Implementing implicit namespace packages (as specified in PEP 420) is preferred to `pkg_resources.declare_namespace`. See https://setuptools.pypa.io/en/latest/references/keywords.html#keyword-namespace-packages\n",
            "  declare_namespace(pkg)\n",
            "/usr/local/lib/python3.11/dist-packages/pkg_resources/__init__.py:3154: DeprecationWarning: Deprecated call to `pkg_resources.declare_namespace('sphinxcontrib')`.\n",
            "Implementing implicit namespace packages (as specified in PEP 420) is preferred to `pkg_resources.declare_namespace`. See https://setuptools.pypa.io/en/latest/references/keywords.html#keyword-namespace-packages\n",
            "  declare_namespace(pkg)\n"
          ]
        },
        {
          "output_type": "stream",
          "name": "stdout",
          "text": [
            "Saving video to /content/videos/ppo-cartpole-step-0-to-step-500.mp4\n"
          ]
        },
        {
          "output_type": "stream",
          "name": "stderr",
          "text": [
            "/usr/local/lib/python3.11/dist-packages/moviepy/config_defaults.py:1: DeprecationWarning: invalid escape sequence '\\P'\n",
            "  \"\"\"\n"
          ]
        },
        {
          "output_type": "stream",
          "name": "stdout",
          "text": [
            "Moviepy - Building video /content/videos/ppo-cartpole-step-0-to-step-500.mp4.\n",
            "Moviepy - Writing video /content/videos/ppo-cartpole-step-0-to-step-500.mp4\n",
            "\n"
          ]
        },
        {
          "output_type": "stream",
          "name": "stderr",
          "text": []
        },
        {
          "output_type": "stream",
          "name": "stdout",
          "text": [
            "Moviepy - Done !\n",
            "Moviepy - video ready /content/videos/ppo-cartpole-step-0-to-step-500.mp4\n"
          ]
        }
      ]
    },
    {
      "cell_type": "code",
      "source": [
        "show_videos(\"videos\", prefix=\"ppo\")"
      ],
      "metadata": {
        "colab": {
          "base_uri": "https://localhost:8080/",
          "height": 422
        },
        "id": "nkdIA17eF6Rx",
        "outputId": "6d0f23bf-6365-4919-aeb5-d4400a34277a"
      },
      "execution_count": 19,
      "outputs": [
        {
          "output_type": "display_data",
          "data": {
            "text/plain": [
              "<IPython.core.display.HTML object>"
            ],
            "text/html": [
              "<video alt=\"videos/ppo-cartpole-step-0-to-step-500.mp4\" autoplay \n",
              "                    loop controls style=\"height: 400px;\">\n",
              "                    <source src=\"data:video/mp4;base64,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\" type=\"video/mp4\" />\n",
              "                </video>"
            ]
          },
          "metadata": {}
        }
      ]
    },
    {
      "cell_type": "code",
      "source": [
        "\n",
        "model = PPO('MlpPolicy', \"CartPole-v1\", verbose=1).learn(1000)"
      ],
      "metadata": {
        "colab": {
          "base_uri": "https://localhost:8080/"
        },
        "id": "1GU-GQH2GA2K",
        "outputId": "efc67a7f-7d1c-4bd5-fd24-f97f93aa7b33"
      },
      "execution_count": 20,
      "outputs": [
        {
          "output_type": "stream",
          "name": "stdout",
          "text": [
            "Using cpu device\n",
            "Creating environment from the given name 'CartPole-v1'\n",
            "Wrapping the env with a `Monitor` wrapper\n",
            "Wrapping the env in a DummyVecEnv.\n",
            "---------------------------------\n",
            "| rollout/           |          |\n",
            "|    ep_len_mean     | 21.3     |\n",
            "|    ep_rew_mean     | 21.3     |\n",
            "| time/              |          |\n",
            "|    fps             | 961      |\n",
            "|    iterations      | 1        |\n",
            "|    time_elapsed    | 2        |\n",
            "|    total_timesteps | 2048     |\n",
            "---------------------------------\n"
          ]
        }
      ]
    },
    {
      "cell_type": "code",
      "source": [],
      "metadata": {
        "id": "533hpOaAGOzx"
      },
      "execution_count": null,
      "outputs": []
    }
  ]
}